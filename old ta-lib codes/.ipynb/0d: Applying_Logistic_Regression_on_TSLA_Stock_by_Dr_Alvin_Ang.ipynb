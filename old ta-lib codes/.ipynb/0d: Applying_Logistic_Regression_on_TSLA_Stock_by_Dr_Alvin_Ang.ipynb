{
  "nbformat": 4,
  "nbformat_minor": 0,
  "metadata": {
    "colab": {
      "provenance": [],
      "toc_visible": true
    },
    "kernelspec": {
      "name": "python3",
      "display_name": "Python 3"
    },
    "language_info": {
      "name": "python"
    }
  },
  "cells": [
    {
      "cell_type": "markdown",
      "source": [
        "#Step 1: Install and Import Libraries & Dataset"
      ],
      "metadata": {
        "id": "hhN0fUiW-M9F"
      }
    },
    {
      "cell_type": "code",
      "source": [
        "#Install TALIB---------------------------------------------------------\n",
        "!wget http://prdownloads.sourceforge.net/ta-lib/ta-lib-0.4.0-src.tar.gz\n",
        "!tar -xzvf ta-lib-0.4.0-src.tar.gz\n",
        "%cd ta-lib\n",
        "!./configure --prefix=/usr\n",
        "!make\n",
        "!make install\n",
        "\n",
        "!pip install Ta-Lib\n",
        "import talib as ta"
      ],
      "metadata": {
        "colab": {
          "base_uri": "https://localhost:8080/"
        },
        "id": "Eb5c6pTdsgf_",
        "outputId": "fd6d7af9-7127-472f-c57c-073dec71106f"
      },
      "execution_count": 1,
      "outputs": [
        {
          "output_type": "stream",
          "name": "stdout",
          "text": [
            "--2024-04-02 13:10:58--  http://prdownloads.sourceforge.net/ta-lib/ta-lib-0.4.0-src.tar.gz\n",
            "Resolving prdownloads.sourceforge.net (prdownloads.sourceforge.net)... 204.68.111.105\n",
            "Connecting to prdownloads.sourceforge.net (prdownloads.sourceforge.net)|204.68.111.105|:80... connected.\n",
            "HTTP request sent, awaiting response... 301 Moved Permanently\n",
            "Location: http://downloads.sourceforge.net/project/ta-lib/ta-lib/0.4.0/ta-lib-0.4.0-src.tar.gz [following]\n",
            "--2024-04-02 13:10:58--  http://downloads.sourceforge.net/project/ta-lib/ta-lib/0.4.0/ta-lib-0.4.0-src.tar.gz\n",
            "Resolving downloads.sourceforge.net (downloads.sourceforge.net)... 204.68.111.105\n",
            "Reusing existing connection to prdownloads.sourceforge.net:80.\n",
            "HTTP request sent, awaiting response... 302 Found\n",
            "Location: http://versaweb.dl.sourceforge.net/project/ta-lib/ta-lib/0.4.0/ta-lib-0.4.0-src.tar.gz [following]\n",
            "--2024-04-02 13:10:58--  http://versaweb.dl.sourceforge.net/project/ta-lib/ta-lib/0.4.0/ta-lib-0.4.0-src.tar.gz\n",
            "Resolving versaweb.dl.sourceforge.net (versaweb.dl.sourceforge.net)... 162.251.232.173\n",
            "Connecting to versaweb.dl.sourceforge.net (versaweb.dl.sourceforge.net)|162.251.232.173|:80... connected.\n",
            "HTTP request sent, awaiting response... 200 OK\n",
            "Length: 1330299 (1.3M) [application/x-gzip]\n",
            "Saving to: ‘ta-lib-0.4.0-src.tar.gz.1’\n",
            "\n",
            "ta-lib-0.4.0-src.ta 100%[===================>]   1.27M  2.41MB/s    in 0.5s    \n",
            "\n",
            "2024-04-02 13:10:59 (2.41 MB/s) - ‘ta-lib-0.4.0-src.tar.gz.1’ saved [1330299/1330299]\n",
            "\n",
            "ta-lib/\n",
            "ta-lib/config.sub\n",
            "ta-lib/aclocal.m4\n",
            "ta-lib/CHANGELOG.TXT\n",
            "ta-lib/include/\n",
            "ta-lib/include/ta_abstract.h\n",
            "ta-lib/include/ta_func.h\n",
            "ta-lib/include/ta_common.h\n",
            "ta-lib/include/ta_config.h.in\n",
            "ta-lib/include/Makefile.am\n",
            "ta-lib/include/ta_libc.h\n",
            "ta-lib/include/ta_defs.h\n",
            "ta-lib/missing\n",
            "ta-lib/ta-lib.spec.in\n",
            "ta-lib/config.guess\n",
            "ta-lib/Makefile.in\n",
            "ta-lib/ta-lib.dpkg.in\n",
            "ta-lib/Makefile.am\n",
            "ta-lib/autogen.sh\n",
            "ta-lib/install-sh\n",
            "ta-lib/configure\n",
            "ta-lib/depcomp\n",
            "ta-lib/HISTORY.TXT\n",
            "ta-lib/configure.in\n",
            "ta-lib/autom4te.cache/\n",
            "ta-lib/autom4te.cache/output.0\n",
            "ta-lib/autom4te.cache/requests\n",
            "ta-lib/autom4te.cache/output.1\n",
            "ta-lib/autom4te.cache/traces.0\n",
            "ta-lib/autom4te.cache/traces.1\n",
            "ta-lib/ltmain.sh\n",
            "ta-lib/ta-lib-config.in\n",
            "ta-lib/src/\n",
            "ta-lib/src/ta_func/\n",
            "ta-lib/src/ta_func/ta_MACDFIX.c\n",
            "ta-lib/src/ta_func/ta_CDLPIERCING.c\n",
            "ta-lib/src/ta_func/ta_DIV.c\n",
            "ta-lib/src/ta_func/ta_ROCR100.c\n",
            "ta-lib/src/ta_func/ta_ADXR.c\n",
            "ta-lib/src/ta_func/ta_MAVP.c\n",
            "ta-lib/src/ta_func/ta_CDLCLOSINGMARUBOZU.c\n",
            "ta-lib/src/ta_func/ta_COSH.c\n",
            "ta-lib/src/ta_func/ta_EXP.c\n",
            "ta-lib/src/ta_func/ta_MINMAXINDEX.c\n",
            "ta-lib/src/ta_func/ta_SQRT.c\n",
            "ta-lib/src/ta_func/ta_FLOOR.c\n",
            "ta-lib/src/ta_func/ta_CDLCONCEALBABYSWALL.c\n",
            "ta-lib/src/ta_func/ta_NATR.c\n",
            "ta-lib/src/ta_func/ta_CDLHARAMICROSS.c\n",
            "ta-lib/src/ta_func/ta_MINUS_DM.c\n",
            "ta-lib/src/ta_func/ta_LOG10.c\n",
            "ta-lib/src/ta_func/ta_LINEARREG_ANGLE.c\n",
            "ta-lib/src/ta_func/ta_RSI.c\n",
            "ta-lib/src/ta_func/ta_CDLABANDONEDBABY.c\n",
            "ta-lib/src/ta_func/ta_SAR.c\n",
            "ta-lib/src/ta_func/ta_CDLBREAKAWAY.c\n",
            "ta-lib/src/ta_func/ta_CDLDRAGONFLYDOJI.c\n",
            "ta-lib/src/ta_func/ta_CDLHIGHWAVE.c\n",
            "ta-lib/src/ta_func/ta_CDLKICKING.c\n",
            "ta-lib/src/ta_func/ta_CDLDOJISTAR.c\n",
            "ta-lib/src/ta_func/ta_VAR.c\n",
            "ta-lib/src/ta_func/ta_CDLMATCHINGLOW.c\n",
            "ta-lib/src/ta_func/ta_CDLGAPSIDESIDEWHITE.c\n",
            "ta-lib/src/ta_func/ta_CDLMARUBOZU.c\n",
            "ta-lib/src/ta_func/ta_AROONOSC.c\n",
            "ta-lib/src/ta_func/ta_WCLPRICE.c\n",
            "ta-lib/src/ta_func/ta_CDLEVENINGDOJISTAR.c\n",
            "ta-lib/src/ta_func/ta_CDL3INSIDE.c\n",
            "ta-lib/src/ta_func/ta_OBV.c\n",
            "ta-lib/src/ta_func/ta_AROON.c\n",
            "ta-lib/src/ta_func/ta_CDLBELTHOLD.c\n",
            "ta-lib/src/ta_func/ta_CDLSPINNINGTOP.c\n",
            "ta-lib/src/ta_func/ta_AD.c\n",
            "ta-lib/src/ta_func/ta_MAX.c\n",
            "ta-lib/src/ta_func/ta_CDLENGULFING.c\n",
            "ta-lib/src/ta_func/ta_MINMAX.c\n",
            "ta-lib/src/ta_func/ta_CDLINNECK.c\n",
            "ta-lib/src/ta_func/ta_STDDEV.c\n",
            "ta-lib/src/ta_func/ta_NVI.c\n",
            "ta-lib/src/ta_func/ta_CDLHAMMER.c\n",
            "ta-lib/src/ta_func/ta_ASIN.c\n",
            "ta-lib/src/ta_func/ta_SUM.c\n",
            "ta-lib/src/ta_func/ta_STOCH.c\n",
            "ta-lib/src/ta_func/ta_CDLLONGLEGGEDDOJI.c\n",
            "ta-lib/src/ta_func/ta_MEDPRICE.c\n",
            "ta-lib/src/ta_func/ta_CDL3STARSINSOUTH.c\n",
            "ta-lib/src/ta_func/ta_HT_TRENDMODE.c\n",
            "ta-lib/src/ta_func/ta_BBANDS.c\n",
            "ta-lib/src/ta_func/ta_CDLMORNINGSTAR.c\n",
            "ta-lib/src/ta_func/ta_HT_DCPHASE.c\n",
            "ta-lib/src/ta_func/ta_CDLLONGLINE.c\n",
            "ta-lib/src/ta_func/ta_TAN.c\n",
            "ta-lib/src/ta_func/ta_SMA.c\n",
            "ta-lib/src/ta_func/ta_DX.c\n",
            "ta-lib/src/ta_func/ta_MIDPOINT.c\n",
            "ta-lib/src/ta_func/ta_CDL2CROWS.c\n",
            "ta-lib/src/ta_func/ta_CORREL.c\n",
            "ta-lib/src/ta_func/ta_CDL3BLACKCROWS.c\n",
            "ta-lib/src/ta_func/ta_ADD.c\n",
            "ta-lib/src/ta_func/Makefile.in\n",
            "ta-lib/src/ta_func/ta_CDLTHRUSTING.c\n",
            "ta-lib/src/ta_func/ta_SUB.c\n",
            "ta-lib/src/ta_func/ta_CDLSTALLEDPATTERN.c\n",
            "ta-lib/src/ta_func/ta_CDLTRISTAR.c\n",
            "ta-lib/src/ta_func/ta_MA.c\n",
            "ta-lib/src/ta_func/ta_HT_SINE.c\n",
            "ta-lib/src/ta_func/ta_ACOS.c\n",
            "ta-lib/src/ta_func/ta_CDLSTICKSANDWICH.c\n",
            "ta-lib/src/ta_func/ta_SINH.c\n",
            "ta-lib/src/ta_func/ta_utility.h\n",
            "ta-lib/src/ta_func/ta_CDLSHORTLINE.c\n",
            "ta-lib/src/ta_func/ta_ATAN.c\n",
            "ta-lib/src/ta_func/ta_CDLADVANCEBLOCK.c\n",
            "ta-lib/src/ta_func/ta_CDLKICKINGBYLENGTH.c\n",
            "ta-lib/src/ta_func/ta_CDLSHOOTINGSTAR.c\n",
            "ta-lib/src/ta_func/ta_ROCR.c\n",
            "ta-lib/src/ta_func/ta_WMA.c\n",
            "ta-lib/src/ta_func/ta_CDLDARKCLOUDCOVER.c\n",
            "ta-lib/src/ta_func/ta_CDLXSIDEGAP3METHODS.c\n",
            "ta-lib/src/ta_func/ta_TYPPRICE.c\n",
            "ta-lib/src/ta_func/ta_CDL3WHITESOLDIERS.c\n",
            "ta-lib/src/ta_func/Makefile.am\n",
            "ta-lib/src/ta_func/ta_MACDEXT.c\n",
            "ta-lib/src/ta_func/ta_ADX.c\n",
            "ta-lib/src/ta_func/ta_PLUS_DM.c\n",
            "ta-lib/src/ta_func/ta_CDLUPSIDEGAP2CROWS.c\n",
            "ta-lib/src/ta_func/ta_LN.c\n",
            "ta-lib/src/ta_func/ta_DEMA.c\n",
            "ta-lib/src/ta_func/ta_CDL3OUTSIDE.c\n",
            "ta-lib/src/ta_func/ta_CDLTASUKIGAP.c\n",
            "ta-lib/src/ta_func/ta_MAMA.c\n",
            "ta-lib/src/ta_func/ta_CDLMORNINGDOJISTAR.c\n",
            "ta-lib/src/ta_func/ta_PLUS_DI.c\n",
            "ta-lib/src/ta_func/ta_MININDEX.c\n",
            "ta-lib/src/ta_func/ta_COS.c\n",
            "ta-lib/src/ta_func/ta_HT_TRENDLINE.c\n",
            "ta-lib/src/ta_func/ta_MIDPRICE.c\n",
            "ta-lib/src/ta_func/ta_CEIL.c\n",
            "ta-lib/src/ta_func/ta_TRIMA.c\n",
            "ta-lib/src/ta_func/ta_CDLSEPARATINGLINES.c\n",
            "ta-lib/src/ta_func/ta_ROCP.c\n",
            "ta-lib/src/ta_func/ta_CDLHOMINGPIGEON.c\n",
            "ta-lib/src/ta_func/ta_CDLHANGINGMAN.c\n",
            "ta-lib/src/ta_func/ta_AVGPRICE.c\n",
            "ta-lib/src/ta_func/ta_APO.c\n",
            "ta-lib/src/ta_func/ta_CDLRISEFALL3METHODS.c\n",
            "ta-lib/src/ta_func/ta_TRANGE.c\n",
            "ta-lib/src/ta_func/ta_TSF.c\n",
            "ta-lib/src/ta_func/ta_LINEARREG.c\n",
            "ta-lib/src/ta_func/ta_PVI.c\n",
            "ta-lib/src/ta_func/ta_CDLHIKKAKEMOD.c\n",
            "ta-lib/src/ta_func/ta_MFI.c\n",
            "ta-lib/src/ta_func/ta_CDLHARAMI.c\n",
            "ta-lib/src/ta_func/ta_MACD.c\n",
            "ta-lib/src/ta_func/ta_BETA.c\n",
            "ta-lib/src/ta_func/ta_CDLINVERTEDHAMMER.c\n",
            "ta-lib/src/ta_func/ta_LINEARREG_SLOPE.c\n",
            "ta-lib/src/ta_func/ta_STOCHF.c\n",
            "ta-lib/src/ta_func/ta_MIN.c\n",
            "ta-lib/src/ta_func/ta_CDLIDENTICAL3CROWS.c\n",
            "ta-lib/src/ta_func/ta_CDLRICKSHAWMAN.c\n",
            "ta-lib/src/ta_func/ta_T3.c\n",
            "ta-lib/src/ta_func/ta_CDLMATHOLD.c\n",
            "ta-lib/src/ta_func/ta_CDLUNIQUE3RIVER.c\n",
            "ta-lib/src/ta_func/ta_ADOSC.c\n",
            "ta-lib/src/ta_func/ta_MAXINDEX.c\n",
            "ta-lib/src/ta_func/ta_ULTOSC.c\n",
            "ta-lib/src/ta_func/ta_TRIX.c\n",
            "ta-lib/src/ta_func/ta_MOM.c\n",
            "ta-lib/src/ta_func/ta_CDLDOJI.c\n",
            "ta-lib/src/ta_func/ta_EMA.c\n",
            "ta-lib/src/ta_func/ta_STOCHRSI.c\n",
            "ta-lib/src/ta_func/ta_ROC.c\n",
            "ta-lib/src/ta_func/ta_CDLEVENINGSTAR.c\n",
            "ta-lib/src/ta_func/ta_CDLCOUNTERATTACK.c\n",
            "ta-lib/src/ta_func/ta_LINEARREG_INTERCEPT.c\n",
            "ta-lib/src/ta_func/ta_SAREXT.c\n",
            "ta-lib/src/ta_func/ta_WILLR.c\n",
            "ta-lib/src/ta_func/ta_MULT.c\n",
            "ta-lib/src/ta_func/ta_ATR.c\n",
            "ta-lib/src/ta_func/ta_BOP.c\n",
            "ta-lib/src/ta_func/ta_CMO.c\n",
            "ta-lib/src/ta_func/ta_CDLONNECK.c\n",
            "ta-lib/src/ta_func/ta_CCI.c\n",
            "ta-lib/src/ta_func/ta_CDLLADDERBOTTOM.c\n",
            "ta-lib/src/ta_func/ta_HT_PHASOR.c\n",
            "ta-lib/src/ta_func/ta_utility.c\n",
            "ta-lib/src/ta_func/ta_PPO.c\n",
            "ta-lib/src/ta_func/ta_CDLHIKKAKE.c\n",
            "ta-lib/src/ta_func/ta_HT_DCPERIOD.c\n",
            "ta-lib/src/ta_func/ta_CDL3LINESTRIKE.c\n",
            "ta-lib/src/ta_func/ta_TEMA.c\n",
            "ta-lib/src/ta_func/ta_SIN.c\n",
            "ta-lib/src/ta_func/ta_MINUS_DI.c\n",
            "ta-lib/src/ta_func/ta_KAMA.c\n",
            "ta-lib/src/ta_func/ta_TANH.c\n",
            "ta-lib/src/ta_func/ta_CDLTAKURI.c\n",
            "ta-lib/src/ta_func/ta_CDLGRAVESTONEDOJI.c\n",
            "ta-lib/src/ta_common/\n",
            "ta-lib/src/ta_common/ta_pragma.h\n",
            "ta-lib/src/ta_common/ta_magic_nb.h\n",
            "ta-lib/src/ta_common/ta_retcode.csv\n",
            "ta-lib/src/ta_common/Makefile.in\n",
            "ta-lib/src/ta_common/Makefile.am\n",
            "ta-lib/src/ta_common/ta_memory.h\n",
            "ta-lib/src/ta_common/ta_version.c\n",
            "ta-lib/src/ta_common/ta_global.h\n",
            "ta-lib/src/ta_common/ta_global.c\n",
            "ta-lib/src/ta_common/ta_retcode.c\n",
            "ta-lib/src/Makefile.in\n",
            "ta-lib/src/ta_abstract/\n",
            "ta-lib/src/ta_abstract/frames/\n",
            "ta-lib/src/ta_abstract/frames/ta_frame.c\n",
            "ta-lib/src/ta_abstract/frames/ta_frame.h\n",
            "ta-lib/src/ta_abstract/excel_glue.c\n",
            "ta-lib/src/ta_abstract/ta_frame_priv.h\n",
            "ta-lib/src/ta_abstract/ta_func_api.c\n",
            "ta-lib/src/ta_abstract/Makefile.in\n",
            "ta-lib/src/ta_abstract/ta_def_ui.h\n",
            "ta-lib/src/ta_abstract/Makefile.am\n",
            "ta-lib/src/ta_abstract/ta_abstract.c\n",
            "ta-lib/src/ta_abstract/ta_group_idx.c\n",
            "ta-lib/src/ta_abstract/tables/\n",
            "ta-lib/src/ta_abstract/tables/table_u.c\n",
            "ta-lib/src/ta_abstract/tables/table_x.c\n",
            "ta-lib/src/ta_abstract/tables/table_r.c\n",
            "ta-lib/src/ta_abstract/tables/table_f.c\n",
            "ta-lib/src/ta_abstract/tables/table_j.c\n",
            "ta-lib/src/ta_abstract/tables/table_e.c\n",
            "ta-lib/src/ta_abstract/tables/table_t.c\n",
            "ta-lib/src/ta_abstract/tables/table_n.c\n",
            "ta-lib/src/ta_abstract/tables/table_i.c\n",
            "ta-lib/src/ta_abstract/tables/table_c.c\n",
            "ta-lib/src/ta_abstract/tables/table_l.c\n",
            "ta-lib/src/ta_abstract/tables/table_k.c\n",
            "ta-lib/src/ta_abstract/tables/table_g.c\n",
            "ta-lib/src/ta_abstract/tables/table_d.c\n",
            "ta-lib/src/ta_abstract/tables/table_h.c\n",
            "ta-lib/src/ta_abstract/tables/table_o.c\n",
            "ta-lib/src/ta_abstract/tables/table_b.c\n",
            "ta-lib/src/ta_abstract/tables/table_q.c\n",
            "ta-lib/src/ta_abstract/tables/table_v.c\n",
            "ta-lib/src/ta_abstract/tables/table_m.c\n",
            "ta-lib/src/ta_abstract/tables/table_s.c\n",
            "ta-lib/src/ta_abstract/tables/table_y.c\n",
            "ta-lib/src/ta_abstract/tables/table_p.c\n",
            "ta-lib/src/ta_abstract/tables/table_z.c\n",
            "ta-lib/src/ta_abstract/tables/table_a.c\n",
            "ta-lib/src/ta_abstract/tables/table_w.c\n",
            "ta-lib/src/ta_abstract/ta_def_ui.c\n",
            "ta-lib/src/ta_abstract/templates/\n",
            "ta-lib/src/ta_abstract/templates/ta_x.c.template\n",
            "ta-lib/src/ta_abstract/templates/ta_java_defs.h.template\n",
            "ta-lib/src/ta_abstract/templates/excel_glue.c.template\n",
            "ta-lib/src/ta_abstract/templates/ta_group_idx.c.template\n",
            "ta-lib/src/ta_abstract/templates/ta_frame.c.template\n",
            "ta-lib/src/ta_abstract/templates/CoreAnnotated.java.template\n",
            "ta-lib/src/ta_abstract/templates/ta_func.h.template\n",
            "ta-lib/src/ta_abstract/templates/ta_frame.h.template\n",
            "ta-lib/src/ta_abstract/templates/Makefile.am.template\n",
            "ta-lib/src/ta_abstract/templates/ta_func_api.c.template\n",
            "ta-lib/src/ta_abstract/templates/ta_func.swg.template\n",
            "ta-lib/src/ta_abstract/templates/ta_retcode.c.template\n",
            "ta-lib/src/ta_abstract/ta_java_defs.h\n",
            "ta-lib/src/Makefile.am\n",
            "ta-lib/src/tools/\n",
            "ta-lib/src/tools/ta_regtest/\n",
            "ta-lib/src/tools/ta_regtest/test_util.c\n",
            "ta-lib/src/tools/ta_regtest/ta_test_func.h\n",
            "ta-lib/src/tools/ta_regtest/test_data.c\n",
            "ta-lib/src/tools/ta_regtest/ta_gDataHigh.c\n",
            "ta-lib/src/tools/ta_regtest/Makefile.in\n",
            "ta-lib/src/tools/ta_regtest/test_internals.c\n",
            "ta-lib/src/tools/ta_regtest/Makefile.am\n",
            "ta-lib/src/tools/ta_regtest/ta_regtest.c\n",
            "ta-lib/src/tools/ta_regtest/ta_gDataOpen.c\n",
            "ta-lib/src/tools/ta_regtest/ta_gDataClose.c\n",
            "ta-lib/src/tools/ta_regtest/test_abstract.c\n",
            "ta-lib/src/tools/ta_regtest/ta_test_func/\n",
            "ta-lib/src/tools/ta_regtest/ta_test_func/test_bbands.c\n",
            "ta-lib/src/tools/ta_regtest/ta_test_func/test_stddev.c\n",
            "ta-lib/src/tools/ta_regtest/ta_test_func/test_1in_2out.c\n",
            "ta-lib/src/tools/ta_regtest/ta_test_func/test_sar.c\n",
            "ta-lib/src/tools/ta_regtest/ta_test_func/test_1in_1out.c\n",
            "ta-lib/src/tools/ta_regtest/ta_test_func/test_trange.c\n",
            "ta-lib/src/tools/ta_regtest/ta_test_func/test_macd.c\n",
            "ta-lib/src/tools/ta_regtest/ta_test_func/test_po.c\n",
            "ta-lib/src/tools/ta_regtest/ta_test_func/test_per_hlc.c\n",
            "ta-lib/src/tools/ta_regtest/ta_test_func/test_mom.c\n",
            "ta-lib/src/tools/ta_regtest/ta_test_func/test_per_ohlc.c\n",
            "ta-lib/src/tools/ta_regtest/ta_test_func/test_adx.c\n",
            "ta-lib/src/tools/ta_regtest/ta_test_func/test_candlestick.c\n",
            "ta-lib/src/tools/ta_regtest/ta_test_func/test_rsi.c\n",
            "ta-lib/src/tools/ta_regtest/ta_test_func/test_per_ema.c\n",
            "ta-lib/src/tools/ta_regtest/ta_test_func/test_minmax.c\n",
            "ta-lib/src/tools/ta_regtest/ta_test_func/test_per_hlcv.c\n",
            "ta-lib/src/tools/ta_regtest/ta_test_func/test_per_hl.c\n",
            "ta-lib/src/tools/ta_regtest/ta_test_func/test_stoch.c\n",
            "ta-lib/src/tools/ta_regtest/ta_test_func/test_ma.c\n",
            "ta-lib/src/tools/ta_regtest/ta_error_number.h\n",
            "ta-lib/src/tools/ta_regtest/ta_test_priv.h\n",
            "ta-lib/src/tools/ta_regtest/ReadMe.txt\n",
            "ta-lib/src/tools/ta_regtest/ta_gDataLow.c\n",
            "ta-lib/src/tools/Makefile.in\n",
            "ta-lib/src/tools/Makefile.am\n",
            "ta-lib/src/tools/gen_code/\n",
            "ta-lib/src/tools/gen_code/java/\n",
            "ta-lib/src/tools/gen_code/java/PrettyCode.java\n",
            "ta-lib/src/tools/gen_code/java/Main.java\n",
            "ta-lib/src/tools/gen_code/gen_code.c\n",
            "ta-lib/src/tools/gen_code/Makefile.in\n",
            "ta-lib/src/tools/gen_code/Makefile.am\n",
            "ta-lib/src/tools/gen_code/mcpp.exe\n",
            "/content/ta-lib\n",
            "checking for a BSD-compatible install... /usr/bin/install -c\n",
            "checking whether build environment is sane... yes\n",
            "checking for a thread-safe mkdir -p... /usr/bin/mkdir -p\n",
            "checking for gawk... no\n",
            "checking for mawk... mawk\n",
            "checking whether make sets $(MAKE)... yes\n",
            "checking for gcc... gcc\n",
            "checking for C compiler default output file name... a.out\n",
            "checking whether the C compiler works... yes\n",
            "checking whether we are cross compiling... no\n",
            "checking for suffix of executables... \n",
            "checking for suffix of object files... o\n",
            "checking whether we are using the GNU C compiler... yes\n",
            "checking whether gcc accepts -g... yes\n",
            "checking for gcc option to accept ISO C89... none needed\n",
            "checking for style of include used by make... GNU\n",
            "checking dependency style of gcc... gcc3\n",
            "checking build system type... x86_64-unknown-linux-gnu\n",
            "checking host system type... x86_64-unknown-linux-gnu\n",
            "checking for a sed that does not truncate output... /usr/bin/sed\n",
            "checking for grep that handles long lines and -e... /usr/bin/grep\n",
            "checking for egrep... /usr/bin/grep -E\n",
            "checking for ld used by gcc... /usr/bin/ld\n",
            "checking if the linker (/usr/bin/ld) is GNU ld... yes\n",
            "checking for /usr/bin/ld option to reload object files... -r\n",
            "checking for BSD-compatible nm... /usr/bin/nm -B\n",
            "checking whether ln -s works... yes\n",
            "checking how to recognise dependent libraries... pass_all\n",
            "checking how to run the C preprocessor... gcc -E\n",
            "checking for ANSI C header files... yes\n",
            "checking for sys/types.h... yes\n",
            "checking for sys/stat.h... yes\n",
            "checking for stdlib.h... yes\n",
            "checking for string.h... yes\n",
            "checking for memory.h... yes\n",
            "checking for strings.h... yes\n",
            "checking for inttypes.h... yes\n",
            "checking for stdint.h... yes\n",
            "checking for unistd.h... yes\n",
            "checking dlfcn.h usability... yes\n",
            "checking dlfcn.h presence... yes\n",
            "checking for dlfcn.h... yes\n",
            "checking for g++... g++\n",
            "checking whether we are using the GNU C++ compiler... yes\n",
            "checking whether g++ accepts -g... yes\n",
            "checking dependency style of g++... gcc3\n",
            "checking how to run the C++ preprocessor... g++ -E\n",
            "checking for g77... no\n",
            "checking for xlf... no\n",
            "checking for f77... f77\n",
            "checking whether we are using the GNU Fortran 77 compiler... yes\n",
            "checking whether f77 accepts -g... yes\n",
            "checking the maximum length of command line arguments... 32768\n",
            "checking command to parse /usr/bin/nm -B output from gcc object... ok\n",
            "checking for objdir... .libs\n",
            "checking for ar... ar\n",
            "checking for ranlib... ranlib\n",
            "checking for strip... strip\n",
            "checking if gcc supports -fno-rtti -fno-exceptions... no\n",
            "checking for gcc option to produce PIC... -fPIC\n",
            "checking if gcc PIC flag -fPIC works... yes\n",
            "checking if gcc static flag -static works... yes\n",
            "checking if gcc supports -c -o file.o... yes\n",
            "checking whether the gcc linker (/usr/bin/ld -m elf_x86_64) supports shared libraries... yes\n",
            "checking whether -lc should be explicitly linked in... no\n",
            "checking dynamic linker characteristics... GNU/Linux ld.so\n",
            "checking how to hardcode library paths into programs... immediate\n",
            "checking whether stripping libraries is possible... yes\n",
            "checking if libtool supports shared libraries... yes\n",
            "checking whether to build shared libraries... yes\n",
            "checking whether to build static libraries... yes\n",
            "configure: creating libtool\n",
            "appending configuration tag \"CXX\" to libtool\n",
            "checking for ld used by g++... /usr/bin/ld -m elf_x86_64\n",
            "checking if the linker (/usr/bin/ld -m elf_x86_64) is GNU ld... yes\n",
            "checking whether the g++ linker (/usr/bin/ld -m elf_x86_64) supports shared libraries... yes\n",
            "checking for g++ option to produce PIC... -fPIC\n",
            "checking if g++ PIC flag -fPIC works... yes\n",
            "checking if g++ static flag -static works... yes\n",
            "checking if g++ supports -c -o file.o... yes\n",
            "checking whether the g++ linker (/usr/bin/ld -m elf_x86_64) supports shared libraries... yes\n",
            "checking dynamic linker characteristics... GNU/Linux ld.so\n",
            "checking how to hardcode library paths into programs... immediate\n",
            "appending configuration tag \"F77\" to libtool\n",
            "checking if libtool supports shared libraries... yes\n",
            "checking whether to build shared libraries... yes\n",
            "checking whether to build static libraries... yes\n",
            "checking for f77 option to produce PIC... -fPIC\n",
            "checking if f77 PIC flag -fPIC works... yes\n",
            "checking if f77 static flag -static works... yes\n",
            "checking if f77 supports -c -o file.o... yes\n",
            "checking whether the f77 linker (/usr/bin/ld -m elf_x86_64) supports shared libraries... yes\n",
            "checking dynamic linker characteristics... GNU/Linux ld.so\n",
            "checking how to hardcode library paths into programs... immediate\n",
            "checking for dlopen in -ldl... yes\n",
            "checking for pthread_create in -lpthread... yes\n",
            "checking for ANSI C header files... (cached) yes\n",
            "checking float.h usability... yes\n",
            "checking float.h presence... yes\n",
            "checking for float.h... yes\n",
            "checking for inttypes.h... (cached) yes\n",
            "checking limits.h usability... yes\n",
            "checking limits.h presence... yes\n",
            "checking for limits.h... yes\n",
            "checking locale.h usability... yes\n",
            "checking locale.h presence... yes\n",
            "checking for locale.h... yes\n",
            "checking stddef.h usability... yes\n",
            "checking stddef.h presence... yes\n",
            "checking for stddef.h... yes\n",
            "checking for stdint.h... (cached) yes\n",
            "checking for stdlib.h... (cached) yes\n",
            "checking for string.h... (cached) yes\n",
            "checking for unistd.h... (cached) yes\n",
            "checking wchar.h usability... yes\n",
            "checking wchar.h presence... yes\n",
            "checking for wchar.h... yes\n",
            "checking wctype.h usability... yes\n",
            "checking wctype.h presence... yes\n",
            "checking for wctype.h... yes\n",
            "checking for an ANSI C-conforming const... yes\n",
            "checking for size_t... yes\n",
            "checking whether struct tm is in sys/time.h or time.h... time.h\n",
            "checking for working volatile... yes\n",
            "checking for ptrdiff_t... yes\n",
            "checking return type of signal handlers... void\n",
            "checking for working strcoll... yes\n",
            "checking for strftime... yes\n",
            "checking for working strtod... yes\n",
            "checking for vprintf... yes\n",
            "checking for _doprnt... no\n",
            "checking for floor... no\n",
            "checking for isascii... yes\n",
            "checking for localeconv... yes\n",
            "checking for mblen... yes\n",
            "checking for memmove... yes\n",
            "checking for memset... yes\n",
            "checking for modf... yes\n",
            "checking for pow... no\n",
            "checking for sqrt... no\n",
            "checking for strcasecmp... yes\n",
            "checking for strchr... yes\n",
            "checking for strerror... yes\n",
            "checking for strncasecmp... yes\n",
            "checking for strrchr... yes\n",
            "checking for strstr... yes\n",
            "checking for strtol... yes\n",
            "checking for strtoul... yes\n",
            "configure: creating ./config.status\n",
            "config.status: creating Makefile\n",
            "config.status: creating src/Makefile\n",
            "config.status: creating src/ta_abstract/Makefile\n",
            "config.status: creating src/ta_common/Makefile\n",
            "config.status: creating src/ta_func/Makefile\n",
            "config.status: creating src/tools/Makefile\n",
            "config.status: creating src/tools/gen_code/Makefile\n",
            "config.status: creating src/tools/ta_regtest/Makefile\n",
            "config.status: creating ta-lib-config\n",
            "config.status: creating ta-lib.spec\n",
            "config.status: creating ta-lib.dpkg\n",
            "config.status: creating include/ta_config.h\n",
            "config.status: include/ta_config.h is unchanged\n",
            "config.status: executing depfiles commands\n",
            "Making all in src\n",
            "make[1]: Entering directory '/content/ta-lib/src'\n",
            "Making all in ta_abstract\n",
            "make[2]: Entering directory '/content/ta-lib/src/ta_abstract'\n",
            "make[2]: Nothing to be done for 'all'.\n",
            "make[2]: Leaving directory '/content/ta-lib/src/ta_abstract'\n",
            "Making all in ta_common\n",
            "make[2]: Entering directory '/content/ta-lib/src/ta_common'\n",
            "make[2]: Nothing to be done for 'all'.\n",
            "make[2]: Leaving directory '/content/ta-lib/src/ta_common'\n",
            "Making all in ta_func\n",
            "make[2]: Entering directory '/content/ta-lib/src/ta_func'\n",
            "make[2]: Nothing to be done for 'all'.\n",
            "make[2]: Leaving directory '/content/ta-lib/src/ta_func'\n",
            "make[2]: Entering directory '/content/ta-lib/src'\n",
            "make[2]: Nothing to be done for 'all-am'.\n",
            "make[2]: Leaving directory '/content/ta-lib/src'\n",
            "make[1]: Leaving directory '/content/ta-lib/src'\n",
            "Making all in src/tools\n",
            "make[1]: Entering directory '/content/ta-lib/src/tools'\n",
            "Making all in gen_code\n",
            "make[2]: Entering directory '/content/ta-lib/src/tools/gen_code'\n",
            "make  gen_code\n",
            "make[3]: Entering directory '/content/ta-lib/src/tools/gen_code'\n",
            "make[3]: 'gen_code' is up to date.\n",
            "make[3]: Leaving directory '/content/ta-lib/src/tools/gen_code'\n",
            "cp gen_code ../../../bin\n",
            "make[2]: Leaving directory '/content/ta-lib/src/tools/gen_code'\n",
            "Making all in ta_regtest\n",
            "make[2]: Entering directory '/content/ta-lib/src/tools/ta_regtest'\n",
            "make[2]: Nothing to be done for 'all'.\n",
            "make[2]: Leaving directory '/content/ta-lib/src/tools/ta_regtest'\n",
            "make[2]: Entering directory '/content/ta-lib/src/tools'\n",
            "make[2]: Nothing to be done for 'all-am'.\n",
            "make[2]: Leaving directory '/content/ta-lib/src/tools'\n",
            "make[1]: Leaving directory '/content/ta-lib/src/tools'\n",
            "make[1]: Entering directory '/content/ta-lib'\n",
            "make[1]: Nothing to be done for 'all-am'.\n",
            "make[1]: Leaving directory '/content/ta-lib'\n",
            "Making install in src\n",
            "make[1]: Entering directory '/content/ta-lib/src'\n",
            "Making install in ta_abstract\n",
            "make[2]: Entering directory '/content/ta-lib/src/ta_abstract'\n",
            "make[3]: Entering directory '/content/ta-lib/src/ta_abstract'\n",
            "make[3]: Nothing to be done for 'install-exec-am'.\n",
            "test -z \"/usr/include/ta-lib/\" || /usr/bin/mkdir -p \"/usr/include/ta-lib/\"\n",
            " /usr/bin/install -c -m 644 '../../include/ta_defs.h' '/usr/include/ta-lib//ta_defs.h'\n",
            " /usr/bin/install -c -m 644 '../../include/ta_libc.h' '/usr/include/ta-lib//ta_libc.h'\n",
            " /usr/bin/install -c -m 644 '../../include/ta_abstract.h' '/usr/include/ta-lib//ta_abstract.h'\n",
            "make[3]: Leaving directory '/content/ta-lib/src/ta_abstract'\n",
            "make[2]: Leaving directory '/content/ta-lib/src/ta_abstract'\n",
            "Making install in ta_common\n",
            "make[2]: Entering directory '/content/ta-lib/src/ta_common'\n",
            "make[3]: Entering directory '/content/ta-lib/src/ta_common'\n",
            "make[3]: Nothing to be done for 'install-exec-am'.\n",
            "test -z \"/usr/include/ta-lib/\" || /usr/bin/mkdir -p \"/usr/include/ta-lib/\"\n",
            " /usr/bin/install -c -m 644 '../../include/ta_defs.h' '/usr/include/ta-lib//ta_defs.h'\n",
            " /usr/bin/install -c -m 644 '../../include/ta_libc.h' '/usr/include/ta-lib//ta_libc.h'\n",
            " /usr/bin/install -c -m 644 '../../include/ta_common.h' '/usr/include/ta-lib//ta_common.h'\n",
            "make[3]: Leaving directory '/content/ta-lib/src/ta_common'\n",
            "make[2]: Leaving directory '/content/ta-lib/src/ta_common'\n",
            "Making install in ta_func\n",
            "make[2]: Entering directory '/content/ta-lib/src/ta_func'\n",
            "make[3]: Entering directory '/content/ta-lib/src/ta_func'\n",
            "make[3]: Nothing to be done for 'install-exec-am'.\n",
            "test -z \"/usr/include/ta-lib/\" || /usr/bin/mkdir -p \"/usr/include/ta-lib/\"\n",
            " /usr/bin/install -c -m 644 '../../include/ta_defs.h' '/usr/include/ta-lib//ta_defs.h'\n",
            " /usr/bin/install -c -m 644 '../../include/ta_libc.h' '/usr/include/ta-lib//ta_libc.h'\n",
            " /usr/bin/install -c -m 644 '../../include/ta_func.h' '/usr/include/ta-lib//ta_func.h'\n",
            "make[3]: Leaving directory '/content/ta-lib/src/ta_func'\n",
            "make[2]: Leaving directory '/content/ta-lib/src/ta_func'\n",
            "make[2]: Entering directory '/content/ta-lib/src'\n",
            "make[3]: Entering directory '/content/ta-lib/src'\n",
            "test -z \"/usr/lib\" || /usr/bin/mkdir -p \"/usr/lib\"\n",
            " /bin/bash ../libtool --mode=install /usr/bin/install -c  'libta_lib.la' '/usr/lib/libta_lib.la'\n",
            "/usr/bin/install -c .libs/libta_lib.so.0.0.0 /usr/lib/libta_lib.so.0.0.0\n",
            "(cd /usr/lib && { ln -s -f libta_lib.so.0.0.0 libta_lib.so.0 || { rm -f libta_lib.so.0 && ln -s libta_lib.so.0.0.0 libta_lib.so.0; }; })\n",
            "(cd /usr/lib && { ln -s -f libta_lib.so.0.0.0 libta_lib.so || { rm -f libta_lib.so && ln -s libta_lib.so.0.0.0 libta_lib.so; }; })\n",
            "/usr/bin/install -c .libs/libta_lib.lai /usr/lib/libta_lib.la\n",
            "/usr/bin/install -c .libs/libta_lib.a /usr/lib/libta_lib.a\n",
            "chmod 644 /usr/lib/libta_lib.a\n",
            "ranlib /usr/lib/libta_lib.a\n",
            "PATH=\"$PATH:/sbin\" ldconfig -n /usr/lib\n",
            "----------------------------------------------------------------------\n",
            "Libraries have been installed in:\n",
            "   /usr/lib\n",
            "\n",
            "If you ever happen to want to link against installed libraries\n",
            "in a given directory, LIBDIR, you must either use libtool, and\n",
            "specify the full pathname of the library, or use the `-LLIBDIR'\n",
            "flag during linking and do at least one of the following:\n",
            "   - add LIBDIR to the `LD_LIBRARY_PATH' environment variable\n",
            "     during execution\n",
            "   - add LIBDIR to the `LD_RUN_PATH' environment variable\n",
            "     during linking\n",
            "   - use the `-Wl,--rpath -Wl,LIBDIR' linker flag\n",
            "   - have your system administrator add LIBDIR to `/etc/ld.so.conf'\n",
            "\n",
            "See any operating system documentation about shared libraries for\n",
            "more information, such as the ld(1) and ld.so(8) manual pages.\n",
            "----------------------------------------------------------------------\n",
            "make[3]: Nothing to be done for 'install-data-am'.\n",
            "make[3]: Leaving directory '/content/ta-lib/src'\n",
            "make[2]: Leaving directory '/content/ta-lib/src'\n",
            "make[1]: Leaving directory '/content/ta-lib/src'\n",
            "Making install in src/tools\n",
            "make[1]: Entering directory '/content/ta-lib/src/tools'\n",
            "Making install in gen_code\n",
            "make[2]: Entering directory '/content/ta-lib/src/tools/gen_code'\n",
            "make  gen_code\n",
            "make[3]: Entering directory '/content/ta-lib/src/tools/gen_code'\n",
            "make[3]: 'gen_code' is up to date.\n",
            "make[3]: Leaving directory '/content/ta-lib/src/tools/gen_code'\n",
            "cp gen_code ../../../bin\n",
            "make[3]: Entering directory '/content/ta-lib/src/tools/gen_code'\n",
            "make[3]: Nothing to be done for 'install-exec-am'.\n",
            "make[3]: Nothing to be done for 'install-data-am'.\n",
            "make[3]: Leaving directory '/content/ta-lib/src/tools/gen_code'\n",
            "make[2]: Leaving directory '/content/ta-lib/src/tools/gen_code'\n",
            "Making install in ta_regtest\n",
            "make[2]: Entering directory '/content/ta-lib/src/tools/ta_regtest'\n",
            "make[3]: Entering directory '/content/ta-lib/src/tools/ta_regtest'\n",
            "make[3]: Nothing to be done for 'install-exec-am'.\n",
            "make[3]: Nothing to be done for 'install-data-am'.\n",
            "make[3]: Leaving directory '/content/ta-lib/src/tools/ta_regtest'\n",
            "make[2]: Leaving directory '/content/ta-lib/src/tools/ta_regtest'\n",
            "make[2]: Entering directory '/content/ta-lib/src/tools'\n",
            "make[3]: Entering directory '/content/ta-lib/src/tools'\n",
            "make[3]: Nothing to be done for 'install-exec-am'.\n",
            "make[3]: Nothing to be done for 'install-data-am'.\n",
            "make[3]: Leaving directory '/content/ta-lib/src/tools'\n",
            "make[2]: Leaving directory '/content/ta-lib/src/tools'\n",
            "make[1]: Leaving directory '/content/ta-lib/src/tools'\n",
            "make[1]: Entering directory '/content/ta-lib'\n",
            "make[2]: Entering directory '/content/ta-lib'\n",
            "test -z \"/usr/bin\" || /usr/bin/mkdir -p \"/usr/bin\"\n",
            " /usr/bin/install -c 'ta-lib-config' '/usr/bin/ta-lib-config'\n",
            "make[2]: Nothing to be done for 'install-data-am'.\n",
            "make[2]: Leaving directory '/content/ta-lib'\n",
            "make[1]: Leaving directory '/content/ta-lib'\n",
            "Requirement already satisfied: Ta-Lib in /usr/local/lib/python3.10/dist-packages (0.4.28)\n",
            "Requirement already satisfied: numpy in /usr/local/lib/python3.10/dist-packages (from Ta-Lib) (1.25.2)\n"
          ]
        }
      ]
    },
    {
      "cell_type": "code",
      "source": [
        "#Install yfinance------------------------------------------------------\n",
        "!pip install yfinance\n",
        "import yfinance as yf"
      ],
      "metadata": {
        "id": "gAmdzyEBpOC_",
        "colab": {
          "base_uri": "https://localhost:8080/"
        },
        "outputId": "0048395a-93b6-4843-a4e2-1957c29e41d5"
      },
      "execution_count": 2,
      "outputs": [
        {
          "output_type": "stream",
          "name": "stdout",
          "text": [
            "Requirement already satisfied: yfinance in /usr/local/lib/python3.10/dist-packages (0.2.37)\n",
            "Requirement already satisfied: pandas>=1.3.0 in /usr/local/lib/python3.10/dist-packages (from yfinance) (1.5.3)\n",
            "Requirement already satisfied: numpy>=1.16.5 in /usr/local/lib/python3.10/dist-packages (from yfinance) (1.25.2)\n",
            "Requirement already satisfied: requests>=2.31 in /usr/local/lib/python3.10/dist-packages (from yfinance) (2.31.0)\n",
            "Requirement already satisfied: multitasking>=0.0.7 in /usr/local/lib/python3.10/dist-packages (from yfinance) (0.0.11)\n",
            "Requirement already satisfied: lxml>=4.9.1 in /usr/local/lib/python3.10/dist-packages (from yfinance) (4.9.4)\n",
            "Requirement already satisfied: appdirs>=1.4.4 in /usr/local/lib/python3.10/dist-packages (from yfinance) (1.4.4)\n",
            "Requirement already satisfied: pytz>=2022.5 in /usr/local/lib/python3.10/dist-packages (from yfinance) (2023.4)\n",
            "Requirement already satisfied: frozendict>=2.3.4 in /usr/local/lib/python3.10/dist-packages (from yfinance) (2.4.0)\n",
            "Requirement already satisfied: peewee>=3.16.2 in /usr/local/lib/python3.10/dist-packages (from yfinance) (3.17.1)\n",
            "Requirement already satisfied: beautifulsoup4>=4.11.1 in /usr/local/lib/python3.10/dist-packages (from yfinance) (4.12.3)\n",
            "Requirement already satisfied: html5lib>=1.1 in /usr/local/lib/python3.10/dist-packages (from yfinance) (1.1)\n",
            "Requirement already satisfied: soupsieve>1.2 in /usr/local/lib/python3.10/dist-packages (from beautifulsoup4>=4.11.1->yfinance) (2.5)\n",
            "Requirement already satisfied: six>=1.9 in /usr/local/lib/python3.10/dist-packages (from html5lib>=1.1->yfinance) (1.16.0)\n",
            "Requirement already satisfied: webencodings in /usr/local/lib/python3.10/dist-packages (from html5lib>=1.1->yfinance) (0.5.1)\n",
            "Requirement already satisfied: python-dateutil>=2.8.1 in /usr/local/lib/python3.10/dist-packages (from pandas>=1.3.0->yfinance) (2.8.2)\n",
            "Requirement already satisfied: charset-normalizer<4,>=2 in /usr/local/lib/python3.10/dist-packages (from requests>=2.31->yfinance) (3.3.2)\n",
            "Requirement already satisfied: idna<4,>=2.5 in /usr/local/lib/python3.10/dist-packages (from requests>=2.31->yfinance) (3.6)\n",
            "Requirement already satisfied: urllib3<3,>=1.21.1 in /usr/local/lib/python3.10/dist-packages (from requests>=2.31->yfinance) (2.0.7)\n",
            "Requirement already satisfied: certifi>=2017.4.17 in /usr/local/lib/python3.10/dist-packages (from requests>=2.31->yfinance) (2024.2.2)\n"
          ]
        }
      ]
    },
    {
      "cell_type": "code",
      "execution_count": 3,
      "metadata": {
        "id": "yN5qyNLQCgRe",
        "colab": {
          "base_uri": "https://localhost:8080/"
        },
        "outputId": "4d6b204b-3d93-4352-a250-f27e031248dd"
      },
      "outputs": [
        {
          "output_type": "stream",
          "name": "stderr",
          "text": [
            "\r[*********************100%%**********************]  1 of 1 completed\n"
          ]
        }
      ],
      "source": [
        "import pandas as pd\n",
        "import matplotlib.pyplot as plt\n",
        "import numpy as np\n",
        "\n",
        "ticker = 'TSLA'\n",
        "df = yf.download(\\\n",
        "                 ticker,\n",
        "                 start = '2020-01-01')"
      ]
    },
    {
      "cell_type": "markdown",
      "source": [
        "\n",
        "\n",
        "---\n",
        "\n"
      ],
      "metadata": {
        "id": "94aSjkLe1eCL"
      }
    },
    {
      "cell_type": "markdown",
      "source": [
        "#Step 2: Plot the RSI"
      ],
      "metadata": {
        "id": "PUUWgWuw1jed"
      }
    },
    {
      "cell_type": "code",
      "source": [
        "df['RSI'] = ta.RSI(df['Close'].values,\n",
        "                   timeperiod=14)\n",
        "\n",
        "df['RSI'].plot()\n",
        "plt.show()"
      ],
      "metadata": {
        "colab": {
          "base_uri": "https://localhost:8080/",
          "height": 433
        },
        "id": "PYdlSgCeJlfo",
        "outputId": "d8f1b33a-7c79-44a2-efb6-142016685485"
      },
      "execution_count": 4,
      "outputs": [
        {
          "output_type": "display_data",
          "data": {
            "text/plain": [
              "<Figure size 640x480 with 1 Axes>"
            ],
            "image/png": "[encoded data removed]"
          },
          "metadata": {}
        }
      ]
    },
    {
      "cell_type": "markdown",
      "source": [
        "\n",
        "\n",
        "---\n",
        "\n"
      ],
      "metadata": {
        "id": "hVlsgHQ51wKE"
      }
    },
    {
      "cell_type": "markdown",
      "source": [
        "#Step 3: Create the Signal using RSI"
      ],
      "metadata": {
        "id": "3wgDCAgW1w5j"
      }
    },
    {
      "cell_type": "code",
      "source": [
        "df['Signal'] = np.where(df['RSI'] < 30, 1,           #1 means BUY\n",
        "                        np.where(df['RSI'] > 70, 0,  #0 means SELL\n",
        "                                 np.nan))\n",
        "\n",
        "df1 = df[['RSI', 'Signal']]\n",
        "df1 = df1.dropna()\n",
        "\n",
        "print(df1)\n",
        "\n",
        "#If RSI < 30 --> Buy\n",
        "#If RSI > 70 --> Sell"
      ],
      "metadata": {
        "id": "NXzeZwEcK2_u",
        "colab": {
          "base_uri": "https://localhost:8080/"
        },
        "outputId": "45c66435-f206-49e7-945a-e0303dc51bcc"
      },
      "execution_count": 5,
      "outputs": [
        {
          "output_type": "stream",
          "name": "stdout",
          "text": [
            "                  RSI  Signal\n",
            "Date                         \n",
            "2020-01-23  81.575907     0.0\n",
            "2020-01-24  78.789833     0.0\n",
            "2020-01-27  76.207187     0.0\n",
            "2020-01-28  77.255654     0.0\n",
            "2020-01-29  78.848365     0.0\n",
            "...               ...     ...\n",
            "2024-02-02  27.596039     1.0\n",
            "2024-02-05  24.481733     1.0\n",
            "2024-02-06  29.532739     1.0\n",
            "2024-03-14  27.692601     1.0\n",
            "2024-03-15  29.028736     1.0\n",
            "\n",
            "[179 rows x 2 columns]\n"
          ]
        }
      ]
    },
    {
      "cell_type": "markdown",
      "source": [
        "\n",
        "\n",
        "---\n",
        "\n"
      ],
      "metadata": {
        "id": "KTxXwkJ42PVT"
      }
    },
    {
      "cell_type": "markdown",
      "source": [
        "#Step 4: Train Test Split"
      ],
      "metadata": {
        "id": "kW1ibLNV2QfW"
      }
    },
    {
      "cell_type": "code",
      "source": [
        "X = df1.RSI\n",
        "y = df1.Signal"
      ],
      "metadata": {
        "id": "EyPUBgCn1rkW"
      },
      "execution_count": 6,
      "outputs": []
    },
    {
      "cell_type": "code",
      "source": [
        "split = int(0.8*len(X))\n",
        "\n",
        "X_train, X_test, y_train, y_test = X[:split],\\\n",
        "                                   X[split:],\\\n",
        "                                   y[:split],\\\n",
        "                                   y[split:]\n",
        "\n",
        "X_train = X_train.values.reshape(-1,1)\n",
        "X_test = X_test.values.reshape(-1,1)"
      ],
      "metadata": {
        "id": "tIu-5JIoEBxT"
      },
      "execution_count": 7,
      "outputs": []
    },
    {
      "cell_type": "markdown",
      "source": [
        "\n",
        "\n",
        "---\n",
        "\n"
      ],
      "metadata": {
        "id": "iACroUrP2WYf"
      }
    },
    {
      "cell_type": "markdown",
      "source": [
        "#Step 5: Fit Logistic Regression Curve & Get Coeficient and Intercept"
      ],
      "metadata": {
        "id": "56-BHEbU2YxH"
      }
    },
    {
      "cell_type": "code",
      "source": [
        "from sklearn.linear_model import LogisticRegression\n",
        "\n",
        "model = LogisticRegression()\n",
        "model.fit(X_train, y_train)\n",
        "\n",
        "a = model.coef_\n",
        "b = model.intercept_\n",
        "\n",
        "print(f'Model Coefficient is {a}')\n",
        "print (f'Model Intercept is {b}')"
      ],
      "metadata": {
        "id": "mZXX5ph6VCyT",
        "colab": {
          "base_uri": "https://localhost:8080/"
        },
        "outputId": "ad694d63-a1af-467b-d63c-633183992efb"
      },
      "execution_count": 8,
      "outputs": [
        {
          "output_type": "stream",
          "name": "stdout",
          "text": [
            "Model Coefficient is [[-0.38069331]]\n",
            "Model Intercept is [18.77286186]\n"
          ]
        }
      ]
    },
    {
      "cell_type": "markdown",
      "source": [
        "\n",
        "\n",
        "---\n",
        "\n"
      ],
      "metadata": {
        "id": "jdQAztdR2eLe"
      }
    },
    {
      "cell_type": "markdown",
      "source": [
        "#Step 6: Plot the Logistic Function"
      ],
      "metadata": {
        "id": "1owPDP3L2fF_"
      }
    },
    {
      "cell_type": "code",
      "source": [
        "#----------------------------------------------------------------\n",
        "# Create DEF\n",
        "#----------------------------------------------------------------\n",
        "def logistic_func(X, a, b):\n",
        "  return 1 / (1 + np.exp(-(a * X + b)))\n",
        "\n",
        "#----------------------------------------------------------------\n",
        "# Generate X_new and y_new\n",
        "#----------------------------------------------------------------\n",
        "# Generate x-axis values for a smooth curve\n",
        "X_new = np.linspace(min(X), max(X), 100)\n",
        "\n",
        "# Calculate y-values for the curve using the logistic function\n",
        "y_new = logistic_func(X_new, a, b)\n",
        "y_new = y_new.flatten()\n",
        "\n",
        "#----------------------------------------------------------------\n",
        "# Plotting & Cosmetics\n",
        "#----------------------------------------------------------------\n",
        "# Plot the data points and the logistic curve\n",
        "plt.scatter(X, y)\n",
        "plt.plot(X_new, y_new, color='red', label='Logistic Curve')\n",
        "\n",
        "# Customize the plot for better visualization\n",
        "plt.xlabel('X')\n",
        "plt.ylabel('Probability')\n",
        "plt.title('Logistic Regression Curve')\n",
        "plt.legend()\n",
        "plt.grid(True)  # Add gridlines for better readability (optional)\n",
        "plt.show()"
      ],
      "metadata": {
        "id": "oNXNl9ExSm_2",
        "colab": {
          "base_uri": "https://localhost:8080/",
          "height": 472
        },
        "outputId": "7acf7a3f-a84a-4086-c97c-6702eab8f8e1"
      },
      "execution_count": 9,
      "outputs": [
        {
          "output_type": "display_data",
          "data": {
            "text/plain": [
              "<Figure size 640x480 with 1 Axes>"
            ],
            "image/png": "[encoded data removed]"
          },
          "metadata": {}
        }
      ]
    },
    {
      "cell_type": "markdown",
      "source": [
        "\n",
        "\n",
        "---\n",
        "\n"
      ],
      "metadata": {
        "id": "Y6x_aUr02kO9"
      }
    },
    {
      "cell_type": "markdown",
      "source": [
        "#Step 7: Compare between Predicted vs Truth"
      ],
      "metadata": {
        "id": "cxwe5zo67dCX"
      }
    },
    {
      "cell_type": "code",
      "source": [
        "y_pred = model.predict(X_test)\n",
        "\n",
        "comparison = pd.DataFrame({\n",
        "    'predicted': y_pred.tolist(),\n",
        "    'actual': y_test.values.tolist()\n",
        "    })\n",
        "\n",
        "print(comparison)"
      ],
      "metadata": {
        "colab": {
          "base_uri": "https://localhost:8080/"
        },
        "id": "Vn2tRnTw3-4p",
        "outputId": "c55d212a-93fc-4a83-9e35-47a8f9c190d7"
      },
      "execution_count": 10,
      "outputs": [
        {
          "output_type": "stream",
          "name": "stdout",
          "text": [
            "    predicted  actual\n",
            "0         0.0     0.0\n",
            "1         0.0     0.0\n",
            "2         0.0     0.0\n",
            "3         0.0     0.0\n",
            "4         0.0     0.0\n",
            "5         0.0     0.0\n",
            "6         0.0     0.0\n",
            "7         0.0     0.0\n",
            "8         0.0     0.0\n",
            "9         0.0     0.0\n",
            "10        0.0     0.0\n",
            "11        1.0     1.0\n",
            "12        1.0     1.0\n",
            "13        1.0     1.0\n",
            "14        1.0     1.0\n",
            "15        1.0     1.0\n",
            "16        1.0     1.0\n",
            "17        1.0     1.0\n",
            "18        1.0     1.0\n",
            "19        1.0     1.0\n",
            "20        1.0     1.0\n",
            "21        1.0     1.0\n",
            "22        1.0     1.0\n",
            "23        1.0     1.0\n",
            "24        1.0     1.0\n",
            "25        1.0     1.0\n",
            "26        1.0     1.0\n",
            "27        1.0     1.0\n",
            "28        1.0     1.0\n",
            "29        1.0     1.0\n",
            "30        1.0     1.0\n",
            "31        1.0     1.0\n",
            "32        1.0     1.0\n",
            "33        1.0     1.0\n",
            "34        1.0     1.0\n",
            "35        1.0     1.0\n"
          ]
        }
      ]
    },
    {
      "cell_type": "markdown",
      "source": [
        "\n",
        "\n",
        "---\n",
        "\n"
      ],
      "metadata": {
        "id": "g6BrWuOO7orb"
      }
    },
    {
      "cell_type": "markdown",
      "source": [
        "#Step 8: Check the Accuracy"
      ],
      "metadata": {
        "id": "vWHnLxbj7pW-"
      }
    },
    {
      "cell_type": "code",
      "source": [
        "from sklearn.metrics import classification_report\n",
        "\n",
        "target_names = ['class 0: SELL', 'class 1: BUY']\n",
        "print(classification_report(y_test, y_pred, target_names=target_names))"
      ],
      "metadata": {
        "colab": {
          "base_uri": "https://localhost:8080/"
        },
        "id": "thpbE6mblvN2",
        "outputId": "e963e289-6477-4544-c36e-9b42873d5ea1"
      },
      "execution_count": 11,
      "outputs": [
        {
          "output_type": "stream",
          "name": "stdout",
          "text": [
            "               precision    recall  f1-score   support\n",
            "\n",
            "class 0: SELL       1.00      1.00      1.00        11\n",
            " class 1: BUY       1.00      1.00      1.00        25\n",
            "\n",
            "     accuracy                           1.00        36\n",
            "    macro avg       1.00      1.00      1.00        36\n",
            " weighted avg       1.00      1.00      1.00        36\n",
            "\n"
          ]
        }
      ]
    },
    {
      "cell_type": "markdown",
      "source": [
        "\n",
        "\n",
        "---\n",
        "\n"
      ],
      "metadata": {
        "id": "kX7zpUuU7s_X"
      }
    },
    {
      "cell_type": "markdown",
      "source": [
        "#Step 9: Predict"
      ],
      "metadata": {
        "id": "F6PhDZA77tsG"
      }
    },
    {
      "cell_type": "code",
      "source": [
        "test = model.predict([[55]])\n",
        "print(test)\n",
        "\n",
        "#If RSI < 30 --> Buy (1)\n",
        "#If RSI > 70 --> Sell (0)\n",
        "#according to the log curve below, it appears\n",
        "#the turning point is around 48....\n",
        "#thus anything <48 will be Buy\n",
        "#thus anything >48 will be Sell"
      ],
      "metadata": {
        "colab": {
          "base_uri": "https://localhost:8080/"
        },
        "id": "Sq8LKwt3exWT",
        "outputId": "13c22857-81ad-46ef-ace1-90fda043671b"
      },
      "execution_count": 24,
      "outputs": [
        {
          "output_type": "stream",
          "name": "stdout",
          "text": [
            "[0.]\n"
          ]
        }
      ]
    },
    {
      "cell_type": "markdown",
      "source": [
        "![log curve.png](data:image/png;base64,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)"
      ],
      "metadata": {
        "id": "FyRfdC9A9IAL"
      }
    },
    {
      "cell_type": "markdown",
      "source": [
        "\n",
        "\n",
        "---\n",
        "\n"
      ],
      "metadata": {
        "id": "5NMNBxX-0NbS"
      }
    },
    {
      "cell_type": "markdown",
      "source": [
        "#THE END\n",
        "\n",
        "\n",
        "---\n",
        "\n"
      ],
      "metadata": {
        "id": "Ot2dhqM-0Oyb"
      }
    }
  ]
}
